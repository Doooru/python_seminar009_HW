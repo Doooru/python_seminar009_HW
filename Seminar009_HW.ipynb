{
  "cells": [
    {
      "cell_type": "code",
      "execution_count": null,
      "metadata": {
        "id": "GbKok82b2LxU"
      },
      "outputs": [],
      "source": [
        "import pandas as pd"
      ]
    },
    {
      "cell_type": "markdown",
      "metadata": {
        "id": "x7KlKAljEXSV"
      },
      "source": [
        "Работать с файлом california_housing_train.csv, который находится в папке\n",
        "sample_data"
      ]
    },
    {
      "cell_type": "code",
      "execution_count": null,
      "metadata": {
        "id": "G3DP87EWENtW"
      },
      "outputs": [],
      "source": [
        "df=pd.read_csv('sample_data/california_housing_train.csv')\n"
      ]
    },
    {
      "cell_type": "markdown",
      "metadata": {
        "id": "WvE-tkODEZyz"
      },
      "source": [
        " Определить среднюю стоимость дома, где кол-во людей от 0 до 500 (population)"
      ]
    },
    {
      "cell_type": "markdown",
      "metadata": {
        "id": "sOE1dm8SHcJY"
      },
      "source": [
        "p.s. надеюсь я правильно понял что значит средняя стоимость дома"
      ]
    },
    {
      "cell_type": "code",
      "execution_count": 5,
      "metadata": {
        "colab": {
          "base_uri": "https://localhost:8080/"
        },
        "id": "mARDoHLQEiEg",
        "outputId": "d3a6147c-668f-4d5c-a9ab-bbb4bd003165"
      },
      "outputs": [
        {
          "data": {
            "text/plain": [
              "3.5298871287128715"
            ]
          },
          "execution_count": 5,
          "metadata": {},
          "output_type": "execute_result"
        }
      ],
      "source": [
        "df[df['population'] < 500]['median_income'].mean()"
      ]
    },
    {
      "cell_type": "markdown",
      "metadata": {
        "id": "DIsjII8eHkjT"
      },
      "source": [
        "Узнать какая максимальная households в зоне минимального значения population"
      ]
    },
    {
      "cell_type": "code",
      "execution_count": 7,
      "metadata": {
        "colab": {
          "base_uri": "https://localhost:8080/"
        },
        "id": "KVWSZ57LHo3A",
        "outputId": "a6ee6858-b67b-4761-cbe0-5d8a4554eb26"
      },
      "outputs": [
        {
          "data": {
            "text/plain": [
              "3.0"
            ]
          },
          "execution_count": 7,
          "metadata": {},
          "output_type": "execute_result"
        }
      ],
      "source": [
        "df[df['population'] == df['population'].min()]['households'].max()"
      ]
    }
  ],
  "metadata": {
    "colab": {
      "provenance": []
    },
    "kernelspec": {
      "display_name": "Python 3",
      "name": "python3"
    },
    "language_info": {
      "name": "python"
    }
  },
  "nbformat": 4,
  "nbformat_minor": 0
}
